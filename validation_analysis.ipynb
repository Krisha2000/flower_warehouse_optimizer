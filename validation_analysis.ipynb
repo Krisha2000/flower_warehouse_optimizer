{
 "cells": [
  {
   "cell_type": "markdown",
   "metadata": {},
   "source": [
    "# Financial Impact Analysis: Proving the Value of Optimization\n",
    "\n",
    "This notebook conducts a comparative financial analysis for the Flower Warehouse project. \n",
    "\n",
    "**Objective**: To quantitatively prove that the implemented **First-In, First-Out (FIFO)** fulfillment strategy is financially superior to a sub-optimal **Last-In, First-Out (LIFO)** strategy by measuring its impact on spoilage costs and net profit."
   ]
  },
  {
   "cell_type": "code",
   "execution_count": null,
   "metadata": {},
   "outputs": [],
   "source": [
    "import pandas as pd\n",
    "from datetime import datetime, timedelta\n",
    "import warnings\n",
    "import io\n",
    "\n",
    "warnings.filterwarnings('ignore')"
   ]
  },
  {
   "cell_type": "markdown",
   "metadata": {},
   "source": [
    "## 1. Load Simulated Data\n",
    "\n",
    "Instead of connecting to a live database, we will simulate the data as if it were extracted from the running pipeline. This makes the analysis self-contained and reproducible."
   ]
  },
  {
   "cell_type": "code",
   "execution_count": null,
   "metadata": {},
   "outputs": [],
   "source": [
    "# --- Mock Data Simulation ---\n",
    "# This data represents the state of the warehouse after the pipeline has run for some time.\n",
    "\n",
    "# Flower Catalog Data\n",
    "catalog_data = \"\"\"\n",
    "flower_type,required_temp_celsius,shelf_life_days,cost_per_unit,price_per_unit\n",
    "Rose,4,7,1.50,3.00\n",
    "Tulip,4,5,0.75,2.00\n",
    "Lily,8,6,2.00,4.50\n",
    "Orchid,20,10,5.00,12.00\n",
    "Daisy,8,5,0.50,1.50\n",
    "Sunflower,8,6,1.00,2.50\n",
    "\"\"\"\n",
    "\n",
    "# Current Inventory State (Note the different arrival dates)\n",
    "inventory_data = \"\"\"\n",
    "shipment_id,flower_type,quantity,arrival_date,bin_id\n",
    "SH101,Rose,100,2025-08-05,A01\n",
    "SH102,Rose,50,2025-08-14,A02\n",
    "SH103,Tulip,120,2025-08-08,B01\n",
    "SH104,Lily,80,2025-08-13,C01\n",
    "\"\"\"\n",
    "\n",
    "# Fulfilled Picking Tasks (Corrected to include flower type in details)\n",
    "tasks_data = \"\"\"\n",
    "task_id,task_type,details,timestamp\n",
    "1,PICKING,\"For Order ORD911, Pick 50 Rose from Bin A01\",2025-08-15 10:00:00\n",
    "2,PICKING,\"For Order ORD913, Pick 10 Tulip from Bin B01\",2025-08-15 10:00:00\n",
    "\"\"\"\n",
    "\n",
    "catalog_df = pd.read_csv(io.StringIO(catalog_data))\n",
    "inventory_df = pd.read_csv(io.StringIO(inventory_data))\n",
    "tasks_df = pd.read_csv(io.StringIO(tasks_data))\n",
    "\n",
    "print(\"✅ Mock data successfully loaded into DataFrames.\")\n",
    "\n",
    "# Add cost and price to the main inventory dataframe for calculations\n",
    "inventory_df = inventory_df.merge(catalog_df, on='flower_type')"
   ]
  },
  {
   "cell_type": "markdown",
   "metadata": {},
   "source": [
    "## 2. Analyze the Optimized (FIFO) Strategy\n",
    "\n",
    "We will calculate the total revenue from fulfilled orders and the total cost of any inventory that expired and was therefore spoiled based on the FIFO strategy."
   ]
  },
  {
   "cell_type": "code",
   "execution_count": null,
   "metadata": {},
   "outputs": [],
   "source": [
    "# --- CORRECTED LOGIC --- \n",
    "# First, create a copy of the inventory to simulate fulfillment on.\n",
    "fifo_inventory = inventory_df.copy()\n",
    "fifo_revenue = 0\n",
    "\n",
    "# Reconstruct the orders that were fulfilled from the picking tasks\n",
    "orders = {}\n",
    "for _, task in tasks_df.iterrows():\n",
    "    parts = task['details'].split()\n",
    "    order_id = parts[2].replace(',', '')\n",
    "    quantity = int(parts[4])\n",
    "    flower_type = ' '.join(parts[5:-3])\n",
    "    if order_id not in orders:\n",
    "        orders[order_id] = {'flower_type': flower_type, 'quantity': 0}\n",
    "    orders[order_id]['quantity'] += quantity\n",
    "\n",
    "# Simulate the FIFO fulfillment process\n",
    "for order in orders.values():\n",
    "    stock_for_order = fifo_inventory[fifo_inventory['flower_type'] == order['flower_type']].copy()\n",
    "    if not stock_for_order.empty and stock_for_order['quantity'].sum() >= order['quantity']:\n",
    "        stock_for_order['arrival_date'] = pd.to_datetime(stock_for_order['arrival_date'])\n",
    "        stock_for_order = stock_for_order.sort_values('arrival_date', ascending=True) # Sort by oldest first\n",
    "        \n",
    "        qty_to_fulfill = order['quantity']\n",
    "        for index, stock_batch in stock_for_order.iterrows():\n",
    "            if qty_to_fulfill > 0:\n",
    "                pick_qty = min(qty_to_fulfill, stock_batch['quantity'])\n",
    "                fifo_inventory.loc[fifo_inventory.index == index, 'quantity'] -= pick_qty\n",
    "                qty_to_fulfill -= pick_qty\n",
    "        \n",
    "        if qty_to_fulfill == 0:\n",
    "            price = catalog_df[catalog_df['flower_type'] == order['flower_type']]['price_per_unit'].iloc[0]\n",
    "            fifo_revenue += order['quantity'] * price\n",
    "\n",
    "# Now, calculate spoilage cost from the REMAINING inventory\n",
    "fifo_inventory['arrival_date'] = pd.to_datetime(fifo_inventory['arrival_date'])\n",
    "fifo_inventory['expiration_date'] = fifo_inventory['arrival_date'] + pd.to_timedelta(fifo_inventory['shelf_life_days'], unit='d')\n",
    "spoiled_fifo_inventory = fifo_inventory[fifo_inventory['expiration_date'] < datetime.now()]\n",
    "fifo_spoilage_cost = (spoiled_fifo_inventory['quantity'] * spoiled_fifo_inventory['cost_per_unit']).sum()\n",
    "\n",
    "fifo_profit = fifo_revenue - fifo_spoilage_cost\n",
    "\n",
    "print(\"✅ FIFO (Optimized) scenario calculated.\")"
   ]
  },
  {
   "cell_type": "markdown",
   "metadata": {},
   "source": [
    "## 3. Simulate the Sub-Optimal (LIFO) Strategy\n",
    "\n",
    "Now, we simulate what would have happened if the warehouse had used a LIFO strategy (selling the newest stock first) to fulfill the exact same set of orders. We will use a copy of the inventory and calculate the resulting spoilage."
   ]
  },
  {
   "cell_type": "code",
   "execution_count": null,
   "metadata": {},
   "outputs": [],
   "source": [
    "lifo_inventory = inventory_df.copy()\n",
    "lifo_revenue = 0\n",
    "\n",
    "for order in orders.values():\n",
    "    stock_for_order = lifo_inventory[lifo_inventory['flower_type'] == order['flower_type']].copy()\n",
    "    if not stock_for_order.empty and stock_for_order['quantity'].sum() >= order['quantity']:\n",
    "        # Sort by newest first (LIFO)\n",
    "        stock_for_order['arrival_date'] = pd.to_datetime(stock_for_order['arrival_date'])\n",
    "        stock_for_order = stock_for_order.sort_values('arrival_date', ascending=False)\n",
    "        \n",
    "        qty_to_fulfill = order['quantity']\n",
    "        for index, stock_batch in stock_for_order.iterrows():\n",
    "            if qty_to_fulfill > 0:\n",
    "                pick_qty = min(qty_to_fulfill, stock_batch['quantity'])\n",
    "                lifo_inventory.loc[lifo_inventory.index == index, 'quantity'] -= pick_qty\n",
    "                qty_to_fulfill -= pick_qty\n",
    "        \n",
    "        if qty_to_fulfill == 0:\n",
    "            price = catalog_df[catalog_df['flower_type'] == order['flower_type']]['price_per_unit'].iloc[0]\n",
    "            lifo_revenue += order['quantity'] * price\n",
    "\n",
    "# Calculate spoilage for the LIFO simulation\n",
    "lifo_inventory['arrival_date'] = pd.to_datetime(lifo_inventory['arrival_date'])\n",
    "lifo_inventory['expiration_date'] = lifo_inventory['arrival_date'] + pd.to_timedelta(lifo_inventory['shelf_life_days'], unit='d')\n",
    "spoiled_lifo_inventory = lifo_inventory[lifo_inventory['expiration_date'] < datetime.now()]\n",
    "lifo_spoilage_cost = (spoiled_lifo_inventory['quantity'] * spoiled_lifo_inventory['cost_per_unit']).sum()\n",
    "lifo_profit = lifo_revenue - lifo_spoilage_cost\n",
    "\n",
    "print(\"✅ LIFO (Sub-Optimal) scenario simulated.\")"
   ]
  },
  {
   "cell_type": "markdown",
   "metadata": {},
   "source": [
    "## 4. Comparative Financial Results"
   ]
  },
  {
   "cell_type": "code",
   "execution_count": null,
   "metadata": {},
   "outputs": [],
   "source": [
    "results = {\n",
    "    'Metric': ['Total Revenue', 'Spoilage Cost', 'Net Profit'],\n",
    "    'Optimized (FIFO)': [f\"${fifo_revenue:,.2f}\", f\"${fifo_spoilage_cost:,.2f}\", f\"${fifo_profit:,.2f}\"],\n",
    "    'Sub-Optimal (LIFO)': [f\"${lifo_revenue:,.2f}\", f\"${lifo_spoilage_cost:,.2f}\", f\"${lifo_profit:,.2f}\"]\n",
    "}\n",
    "results_df = pd.DataFrame(results).set_index('Metric')\n",
    "\n",
    "profit_improvement = fifo_profit - lifo_profit\n",
    "cost_reduction = lifo_spoilage_cost - fifo_spoilage_cost\n",
    "\n",
    "print(\"=\"*50)\n",
    "print(\"  Financial Impact Analysis: FIFO vs. LIFO\")\n",
    "print(\"=\"*50)\n",
    "display(results_df)\n",
    "print(\"=\"*50)\n",
    "\n",
    "print(\"\\n--- Conclusion ---\")\n",
    "print(f\"📈 The optimized FIFO strategy increased profit by: ${profit_improvement:,.2f}\")\n",
    "print(f\"💸 The optimized FIFO strategy reduced spoilage costs by: ${cost_reduction:,.2f}\")"
   ]
  }
 ],
 "metadata": {
  "kernelspec": {
   "display_name": "Python 3",
   "language": "python",
   "name": "python3"
  },
  "language_info": {
   "name": "python",
   "version": "3.9.7"
  }
 },
 "nbformat": 4,
 "nbformat_minor": 2
}
